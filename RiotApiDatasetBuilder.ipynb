{
 "cells": [
  {
   "cell_type": "markdown",
   "id": "27913bac-a75f-49f2-8a39-75cf72acf998",
   "metadata": {},
   "source": [
    "<h1>Building Dataset From Riot API</h1>"
   ]
  },
  {
   "cell_type": "code",
   "execution_count": 23,
   "id": "f6bbba90-67b2-42bf-95e0-dc80875d4ae2",
   "metadata": {},
   "outputs": [],
   "source": [
    "import json\n",
    "import requests\n",
    "import warnings\n",
    "import time"
   ]
  },
  {
   "cell_type": "code",
   "execution_count": 24,
   "id": "5cfae75e-3364-4375-8a63-4f6dd0c4ffd2",
   "metadata": {},
   "outputs": [],
   "source": [
    "file = open(\"riot_api.json\", 'r')\n",
    "\n",
    "# Open the credentials file with json.load\n",
    "credentials = json.load(file)\n",
    "file.close()"
   ]
  },
  {
   "cell_type": "code",
   "execution_count": 25,
   "id": "21640765-071d-4207-a4fb-5280a35cc139",
   "metadata": {},
   "outputs": [
    {
     "name": "stdout",
     "output_type": "stream",
     "text": [
      "{'leagueId': '5fb61387-cc1e-463f-9ae2-49a11e84faf4', 'queueType': 'RANKED_SOLO_5x5', 'tier': 'IRON', 'rank': 'IV', 'summonerId': '0IwuPXtx01x2pcAFijnz-ymYktfOkHXgypaeFrjmxAQ5p7dI', 'summonerName': 'Crazyknees', 'leaguePoints': 75, 'wins': 27, 'losses': 34, 'veteran': False, 'inactive': False, 'freshBlood': False, 'hotStreak': False}\n",
      "['0IwuPXtx01x2pcAFijnz-ymYktfOkHXgypaeFrjmxAQ5p7dI', 'sSkS9fw41Tu9Ty4w8sWisy_BLnuMyiByyx6FD8pHsfAbu7-M', '_NQ3F3_mj5c9vptUvqwsaS5J84s4_n8Zg5AsS9P-O0iw86Gm', 'Ultef8EUDiEUoGcfdiVbt1h8k4bSP-ISRY40Vr78hdy6a_nt', '6u7CD0PvFECs29aqQrHyNMkJP8vjwlF94RXdYTcOSVWVZhhf', 'UOwkW8Vn4WhaPbZ3kLNn59VAQ3uQe207yoHiJvoJlvsjNSug', 'AC6_dDolZvvnlKyZJ-nYMdYevpERNI-yAKXo9tsUV0RBZMYu', 'Wln4fAyzNKZazzjO5BeAPAKCgzIjYo2sd0qGOO_bYVjAz32V', 'W_vbM3HnQgzlkxiKXxiPjUyE0rmW-a_f_whzxANAwG2QKhQv', 'emzZZNkwt05djO2wqgl01Ptd9u4O_JgI-fYc06Hcg2cjl89l', 'C8FdGHYGvC2xwcLHAVOj86v6dNGsGI3JtcyroBDkvm27oQpz', '-ZgGzLb2bJKAMhU29VeJ2pNQnQihY9oMRm3JzQTe6MkT9al4', '8Sjub9LCmyp0gte4V7Pd1qOzWyUhRDuEjPVfWsNnY5V8pvWj', 'ZtWuTdbyu6Rz9PSWuhOSacRlLPZ4ywEgIoeqQS94UJ1Oj3YK', 'PmsMVCh-7WUu8crsUyYEDmTnPchrILiA5y6SB1rJfmgx5G9w', 'Kxs7RmSmZOXj9rRgUz-7zy_uCaUBHgANDd5G1b9WJJvUa4jT', '9lpDH4wax_dD8CDbRUPE6omnTBMzsqyG3AzWykAQVpN-Nr1Q', 'QHDPiuQYzdpMCOzzFSCc7QtEgyCCRFZ8PWyCAMw_eFaT-ZfL', 'z3wXG5hWl0R38YXZsPOjeCAbe84kzziP3C-s01jXfzTvJo1X', 'n4hteIzk1LCxro6mToclmX_UY4DIBShyjAf3G1-iiL8qIIr4', 'heEis9oK3fNeZKO65QaVTAkaUdWpCTa71Qn8MQ8ty7fh5phy', 'w9yeJ_nzTEcBRZwzDv8kQCjfiL56EsboVfpGZOceCh2-kp6A', 'rcajiqpe9Opom-D7fSBv1Si0xfXU2BWCWQ3c2s_gNogbpYxF', 'HaRXUNYZBt2_utwlJpjNtVJsYYcnuXtCF-Smxkt4YDAUX5Xx', 'dlmzzuEpt89_9R5onoakB9wDm0qHH01aVpP1hdVTmmVnPqsZ', 'qZ_16zgEYzecU1SsbLRRs06I2KVRdKeuNJwOoxa7jJD0c2UX', 'ROvNMjbyWCbKSuLMw4L6wA4wbTRYpnAKq5lvF0WM5r2VIhgT', '5VLQxz_cqHAJzXKLkQA43gZOpSus_9QXiM1AJua80RVQIa_l', 'y4JAaAWa7sfFdE69fB5ctdfXflfg6ujljEUfAkslmdw-8gUY', 'yXZyS624x_Knj78MnWlAZ8aD8pb8iiVz7_-NI1hMhCwcjwAY', 'wSeWIV4p1RduYq-IkwzdWn5AKZ6VQODU2OFbZJCpIjp3bLQU', 'UWI4YtOQrK8azfazhXKAWBQFrpzgdWDoZt_Erai9gCHJJgqB', 'ozlp1AZLgJudIv1YxLEuRfHHOspduV2mKC-a81XCBAs5HOLc', 'xhRWC6-oqY_5rzczJxP3uQdUo3ShO3e9mKx_idc3FyUDHQQp', 'X38Wu6VUTSbnAKoT8jmAVzKvJqHQWLH3qtk_O3jGTdw_Nn5V', 'O38JKuO2RE5W3kT6cUPx1BaXjjkENq5Km5j6HX8TbLEcnqV3', 'LmvZM3a1OXu43aqAcM6B-TX5l8gybTYz5OCi0BQdercX1PHq', 'NZadtBTrAPELHvFuNLEBs3VPCTp9C0gUATWy-9cxGEeM-C8w', 'tKIZX2udpyBXW-R7QqeFvG34aO2Q0ok1ZTw3nnp9j16drIwN', '9wn5-_sPD47EuFoscBo_5ezobhz9dlnTRpabAV-L4vPuSeIw', 'UueE_oV-QGL_jxZVFbk1wjsKCd1MvSHbAa8y23A4ctclWI8R', '53zEU_t5wSAZimTSgALKgTX8vv9lkMBtKWvRdc5RJ0jWSjyW', 'uuTWErP_I_Fj0Qw8yqdE3BbJ2TNhfxw-FcVXbtufvTipPJsY', 'gv_aBWhgTiBTiVp0JUxNnS7y7JvOCTrUHhEEOIFVKliTlfUj', 'gFAnc66atc0rvH5_JX0UJnw__7XyqQL0-SLLA_X-Hb3U4NbA', 'CRfElyWuZT66E7ggzLdtyo4QSIJenMoDnLWY8jaUKg0R1nMk', 'y0-BitXpDb84NJIqrPQ8el5ZcFjh8p0SFCb50M1iinMKQBYp', 'Gd74YLbzSNikvVeUIaAyiv8OuKP-oH5MevN4mUn-b1JalOJk', 'wntZP3cWBHUjFhUHh3tzaAZQ1pkQrtr_ckC-E5S_F9LkB328', 'XayEOh68BT0EIYBfie9s6LbYBwQmlFnWYWMo5871mQ2b86s_', 'xclPBsydNPPRiug6u_BnEU-LC4gWtBtyuriWZW9YnqX2GrcR', 'fT6QpCk_FBEKrYAv5f4BRUpDhuxJ5LFqmlv4boCX2b_drkwG', 'ij9NGmIy6F9KxZMOMxsJD4kjO_tIVm9UD59A4oVxJ5k3BK09', 'InBZCs07sT17XntYs2wWgxWYP1ZFq5n0RGROP7rydDQzpNpR', 'FiLIefkwDx34ibUjX7eDISpdXl3-FMrmqQ4c4ptYu7dIy2Yc', 'CFSfk6j_A5qGbF12wWnr4YZBoJ3d4xwCH4EyHUe7FRheDcwn', 'l9zhR2pM42GBV1nTfBKG0D4wpZec1wfFRKuNr4eSOVvm6yMI', 'DcPDBv8ouYhmNfbD-OLmE365rcgfH9hs8xb4b1z_XeYWtyLS', '-Kx2jkJsb3HlqOPxy28fdLcVW5s0IZQ-_Kwzk34vAszhCDMx', 'jJ1JH4rQWMP0TpZsexiHAvgy5s5zmkFYGQ1O-hd1DKufjjcs', 'rww8EeLOcI89oos_l3lUiFU_-MP_J3dSsB0BsI5gOsONwYXj', 'n5LSBmzs4fIZtSHqWdZpQJhdKL7TumSOya0aHJjoaQ7JR9r6', 'cJYWNWTsrZDFP8g2ZUB_yl619zWv8Nn0LE7Q2-seRNfxjib1', '5ZdV0bBacHZb7w7tIpVpdJaNpBz1bVLN01-9kMNo6WPhwnxv', 'raHEkRSckEE8gcghzx2oHkAtBmuos8sIClc_WdK1i3PXGT4e', 'Bu4Q28pL--29NL_LaPtceK4T__jG8s0vukc2V1p07lxRhKfo', 'OblXXb-NrWmprB2-_7JClZ33rCnbdkvlC3AAh5W9EuTbLysf', 'q6cnWKnvsATZWC8KYtd2Y3YAnlUOr_MyPwsP5aT0EsqKUkmj', '8pYWc_wGMYTlTIqQITjeqtq-Kr-m4NvZho6mgTEfWaEJHtGT', '_ipS_APIJy7jYoR9nFZDwjzuNOvET4ANJlynVZo0QW23KYLK', 's5rZ136CFv1c9uX7v7klpyN1TQ115f3UFUqyHT7BhoItXwIz', 'cgSI-d_uqi4ScCQA_meM2Z1wRdrlh2Di_zLqUyyGMR_dPQG6', 'j5VCXAqmQ-WE9KJ8VsRnKf13ACigmoJCDhISJy4RAmcdVDbg', 'Ax86Lin8MEbahHxIq554hLfKwJUo1Mgzk0x1qz8IT4g9qAfX', 'jenbRaqUtFUwuW8eHP-0VQcVgTi_NlBNO3d_XVaRkR58MhXf', 'c7ZoyQTVkAr8MDoKaCci-lBhbTkhgCcCwBhuKOou_z7k5gcs', 'CjCnK0KiJuw3oa6CguB9KG9SwNGqLb58tROVCpyyOpaBvqU0', 'xuhlgj2xp-8F_bczZTGbPfgay6p0hTT0nplZYErq7Ewv-u1C', 'dRA52IkWXKJPAjTmtibOXs4cQfosbHvd5VACo3X0lXs3Y-8c', 'Kg3hAyN6HxA0spdG6YPu9-2olBg4I-FSpen165qeHverqsBB', 'bwVjtyAK5parsSSAGWWuh3FmZPgPTDUCaPMnPxYrT1JrswCT', 'VDsLXmGFFIlNuref7K7yPCGCPSMUu5daHx4Mj6D9qPiBObIN', 'bQu3AEv2ESFhXOMM-2FBeLNaAgIINhkS9xj3sLmLIqhpKCUl', 'R73v6uwQTZwe5xXodQifB6Jzb29cB6wMd4j9jM7OVWIKm5Yh', '0EvmSrlmv7ySBh2TuJTWFnL7yHoceNm5Xo3TeKWSdHDJkeTu', 'n4djQl4JpzoCkpQqyEWhgzY8XTRmmZQ3o5ZYlk-iZA0VlO3G', 'CziX4JxLEo3vle-eT616zJzz8WJLUChogAs8IUfvgF_jZ0yl', 'Fb1M3Bk1Vnq6YI9lx5c0j-O-H8OgDCKyo2wh9JB8A0FOL4nw', 'CNs2gpp0w0zC8xyHEl4Qu1TV-MbssGvZhTKeSGkrrxCUdEO9', 'MRx7vZIrC7pd8byp4IdvM0Y8POCl43VngS3nGFAMus3Dh63M', 'XHfTxx2zzY3qJrwPhHTEWgmBlLYwSDLs02ITrcl-aiYFUtca', '1Tl_-J7BgjltQAHzKujurQttZywuhOooPDfQeoNDUYDiD0FX', '015MOeVpml57uR2FkIDj5LDPF6vdH3gl8-OHe1x7Davdpiht', '7x2WrfrWz9glVtnGwrGv2YpF3iaC-Db-1yimOc2tpncTvnIE', '6yI9qTED6lgVbyx0ox4Mi1QluOVJ7SAptiTGCIeIOHlWswiB', 'jhcxzfvvdsf4amQJCLcSyfdFuHDaRUvXVE51b5iOnXpqVIHe', 'aiVj4z1vERvTJRPI3kIU8Av1HrQR2cU9tT5Z-vi86hMcxbNi', 'LF9FYweBC6ZFMNgfg7yvgCnfNSZXqZCfiBsM33uLjr6boxt2', '5WgrLKRA9b60FM49-r_96g_BNz7nIJcPRFhv5S57oFp49F5u', 'UiZoFuBFCV_C8d6_TEgLFiDawUOnhxVzCOLkrbDWk-FuEJAu', 'sS4KThIUXfEd1rngsBC1IqOrGrurQq5SBVeeHHyrsR156Lzb', '03F0tOHEGFKv7hosCkFrSXJZgDb6g7Kf-AXfZdZLupO7Y_do', 'Xt5vfoqRUFkLk6Ku1qzDvgE3Fsm7HzQy4ljk-UbtvDLUtpts', 'Iu8IBpfTV5kFhllOc-YF3hRjrI9ofyaieqFTfOuNXwvJYcDS', 'OTw11uNN0iMl7vAutWKUJNg2N38g2-kbMS11-HovFOhAIZyx', 'AM7CbECl6FQXzegBBNaGG16otRpBpJ3Vdi3Eaj7aS48AcjTN', 'BmyXgIPBbSLj_69BhXY9GPUjdpe0LemMq0csLK4JXx92mnmc', '37LHCxjw8MumPiVvUiUUg8Z7IXo51BX4y71DovMFenVeRkbO', 'Pif3zbrc5bi3uBa8_t85WV-ixDG-D5jxvd_q9JZB5p1Ck3Bp', 'Kg2jq73jofX83DSR4L6Qpzv72ddHgtcOyze7tl54v-YBGvG0', 'jW1nBAxJ_C5yv56j4AyFtb5u8qMvPWU_Brl7dUNq1CW7sp3e', '9UtMAMy56UeziWjBPZ8DUtUd5wTOf43a1Fh8MbYXzjOYbQDT', 'R2XIiIdiRl2nt5wTn1_uho9d2P-TKSyO_z6p0fSTcLA2epxW', 'nf9R1jegnDxF4cIPYLd75YM0QTV74u2H95gsFPHhYnTVmymF', '-ePvom0H_asYI4CTNgNs2opDsN6LSDgbpUO3R-lIxYIhvpxA', 'GPgiwAiWUeQXOHIHHU55qzOphqKBVOFk9gQaIqolhszaUYaK', '9JfdxoRtCKCTqRY7rW4hBafl7lF19zbxMNvmlipSQphgq7H_', 'ITPji1HN-vDPFYtVRUV0mSV0N88isxfyH_A3mzgUSVnm_oGk', 'PyWJvvek5mhqKoIu5zghDd7Otmb1SzbeCEkFTkdjOZ5OP_C7', 'qHfXiaYiGFiwyXrf_t6CaUPFuUeYcHBCpAun04uFS01z8C8L', 'LxVqoIbRLJcObX3AsESukWH5zKxSWA8ufck3bfcDiKAS5AO9', 'IGOZMQx9ckE3H27gYGneite5gl3O4Hdex1_MbPMvLQWuEIK3', 'VUHxviryefYRLz3wVi271C2jsxdjcrG8UfqFoR4l1OJwOXkX', 'vG3IaTm-rCGmCARipwMvqZFIKOWsoIOKiBr8pRHHP-vTmDE7', '07OVMK9NVHPuTy_u8pY3x2My7hNbQ0hVzRB2ixdDGIdyVVJ3', 'N-6CpJAe7IcH2JXXt2pIZrMBHx_HJ1jPDnVMMuyRACrfKxPo', 'mUonNzHP96TGAHfjRpr8eTH_B9FeuyrDvQECu897LhcxyFgl', '0O_dx5AILR_1UNE_TFlMkjESITe1ri5T2T4fVuEOdNLk15Mq', '1DWQ6wKrWMXUDCaxA-BkkTysp3700VwazDjZk0DZm25gVUbd', 'P6yGkmJ_nRYsS1045BCrBQ-p7gUAhp00cQ27N9ku7dvx1Mky', '0jMqxRUqemLOTstnR26U4n_nIcHhiYMTSX7E_7srBUXUHvyL', 'YL0aG5gCIQIw90OMqbttUy_K6wqEvtexq4aZ8RU7R947RI38', 'TjSKzChGDA3eVI7hHJa9Xc1UvgeXBeEBP2gv9GUnFmyQfnME', 'kn4npyhySn67oVFcf5u9nMzwqf_hahBfvbr_MoMp_whzj7yo', 'GxnxcBVJIZlhMkGGbn2zkbRZh37BSAtNmCoQGtYOZDPryAhD', 'MKsyqJqJVjHK93XU7SG8xioA41P7VJs1qEUQqY1jPXRFg4VZ', 'bYVkmsouHN6hvmN5BiXpfXuP4vrBSfls4P1Dr4aeNu_18oru', 'QOtBYgPjHKbv7P-KA333INczQRnvVzTTOZvTV_F81Rzdc5eE', 'BETrn5mu3hRx0jTx3s6apg9j9RlPV4i38wUxmmD2IfD9fJYv', 'qGILa1josWnHSDfF0T8nKE_taZi8Uoxp2Tf7Zd2XA7ayEraY', 'NHShwiNKd4jm1u6S4Af2RsbG3kNJf9kA0TC_47h5zNpzXxeG', 'QmasYCu6BFMrD00ZU50jnhON5pUzqEJLEjnNAwBAKdnw6mBK', 'MLW-b3i0KIZhaN-DqfD8RvVM2bOFCxNWyNhqE6Lt9VRGfm15', 'Qj6PhJEacHE47g__7JHTiK__JEzS-B3Ii0sYShOyYNCA-9XK', 'Wr-QZZ7rVqHPB4vmVt4yH7IU57rkXU5HLrFVUubJHAZJbdcU', '7n-f5l8mVbMOs0APP1NSfZmgfYZ-CI0XQL45Ltl7TlP6Ajrp', '-U2RH5COPr_0pqgLdECCftftpoT1u1ZqMWmbiJdWNFbMMBXl', 'zBYC8IgfIHFPSPfC4d04K-FnVqJHCZVLObmqxdZP9zBU6QGX', 'NqQhNEO4kjA677bxpOE4voU3IDuBVdGBpa4VKOegQneE4jXg', '87p6qvv7nAQaToCTTtclR45VRp6-Os_-7zSmsFMdMpNdrB-P', 'nxEEZ0AiG4iafmw9SLtD0v9Gx2dagEcya95gxT2olCpXzl8z', '1iFeWmew_6GqOYAapcbgCs0iEjQ9Hx_W88A9z93dXPD6Gpmu', 'y5cNxj9cXuwTPBzv3W0i4w3qvW6MApvzDP7VXfE4bKtAEN0c', 'exEbOYu-u8UENMVsV0ahT7XDYS-0eU05-izK5Ye7Hti6bcGR', 'SHRWN281Mj8wu8XmkJvJq4aQWiSuD8lSbF532VS99LkCCZpe', '2nZ8BTBk7CNRYVo2D1hKnxflu_khUgKxe8VSQ4XCRaVAgwa3', 'K6TXfsTuWs3_KhAKgxR_h63EQEV70cvyRUvy8A57VijqRqsX', 'PmxaiD9jYK3osLKluij3jwJo4iN20bGtVctk2EoXigQh7Mo2', 'iSowo2gCA3xBVcxDs-JT4Lv3ibzUkrSqI_OpxZXBk9DX059V', 'pGQ9MeBn3nl4KKSZ4luogXsL3YbAPNxtCO3llTd_9svXVdLA', '9Na5YVBe5do6Xp088aGdDM-HHs4AE7uUx5bkGrObwjIhOroI', 'i8_V24cBA86jM-OVfpEtkBraG8hhqRPefe1SBMCVpnVvTNQb', '72NXa7_jjiIwSeBdGIiVEghb8L7M8AiJUGj4stZicGO0Hl8F', 'Zdz_k-QQZ7KfAli6bjqih_r6kmHHKo2FQVZwtwt3T98PjhEy', 'sZU8J1IOFp3R5P7IUSuL3v6_Nm-Qz9X5d5GY5Hv2P83ju32W', '_Hx563ubaNKskkqokweGPuTRNLLb6TaYkdpcbTlnJT2BWn3s', 'ikZx2c7gmVHXfv_c4OK8E9oKeR2GmLtTwQgmpKRSMTCOOIoa', 'uzPp6uHISelxWAnAPQFsJB0oKUf7N5xgpsM2zR8nZpjuIzMC', 'QmCxGr9TL4wavrwHZ54at-QyYxSNCKfoiKMJXBfwnCCJb56o', 'AM3MUcZHn1KhxgkypzBxgZgPGpkvvEVJLWtenOh_Klshyh92', 'bi9BLv9LXw2Reacf399hNFuXO1M0EgfMmCwtlvalpWSGIgA3', '4yfu-APeXEayDJphqv0CYjFCDMeawCM07aDt17RDfuw9ZSsK', '_6NUPdJwLZbRKVngSOx7Bi5XC0vpbfipf_xdCdxOJd0C7tVg', 'Luqyd04ypmUwWVUQ8qE13-1pCt0-RtchmPATRN4Btsu-cvDH', 'j48YdWY1yCI_Og8J8uqB8iFy9Z5M45VyeiGCZEhQYjc3zkm6', 'EufkZF4VomAucNL6iCY_B7xWvsc7_BtH2kjENpI-85Onr5ZE', 'Ww8je7PkNOTe1S4DE6v2-lKTRRSw9rSqhE7s0yFWMKpknWx-', 'yWOgNfs_UcZCa-u3Y9m9kU4no9bX8HFxzIqWIRx_mq4aA7XC', '-ked9Jpoz98zxZobwRIziQqGqGhQDKCnsjRZn1wn7jJoE0Z7', 'TR6xEbMDXcHD2rFyVPSv506AHNCdj9m3-hP76b6bPtGgpqP3', '0iNjdRdNzp0vi3h4rQNglyNfDPemEPOrvere4q6ylJmfPpE7', '0nquTX_zOQgCTYQwoiR6Lh7ruAazVjROGqjeADvC9Ex0Sckq', '_JlcALxstDWJT6HaMOI_JPegRoG9ORw2sSZ5TnRk1faQE6Ly', 'TkCltnNtOtzkSkGF457LEs8xxkVLfh242nXQMtRlshOuGlcq', 'I3wtg2FUZxHLo4AvGUJCrTtOept0ZkO2v9-pcw7oBgdJm9mp', 'qUmVzRotgcBX7aSbXI92VG3mKknq4b_F5FY1aL0EV8ULrJlg', 'ylTWEdgnitn0lRs835JxRR42VZ0yAFcIo5rU2ub_A3OWfSpj', 'BrTFDwcu1gMB3865NSqZxJ7TpxXifAOexi5mzgjEULGGqjwT', 'T6HYnJs7UnCik_3zzgK_TdtJovFVZGiUmDizXO2ahAf7Yp3T', '-jGvDNhX7gctuWpKwZucbsFZKdJh8Fg7-86YAxixQs3y5Tlw', 'cDx02vQZlkHdvmUUib8y_hTJC7efiiOl02vJF73Ps28I9fnp', 'bzg4zWgN_vloFArcevI1m96wxjLUSX5zdamPfH4Qrr9yx1ya', 'n3cqdpKCBHoYzJlkuWev7m4hqIR4txh1sRAAexDsqq4W0K4b', '_FnhVSFEyUqorc1EVSbtTKpc0llAm__K35VUbIjTNZi-3EbP', 'E7v2_2h71IfCml4xt-xMqP1w46SkfrXwi2EUmA7znFywwk1k', 'JahkZIryCu8Oq4-8OeSK2p4ilpbopFeaxzX2nC1EjXI6iVjd', 'nzJ3zGxMRrfm-7KY9uaE_6PkT6zc3hGeFmxAI9IwrClqnXo3', 'ZMIWFqUnItI09hJSCC8ziD3jR-Wr35iOYv98KVLZOoUa3hvH', 'PT-FUD9rLTdkjozg-vuPEGSqvR-G4MTTwgdra20lq5xwurM1', 'QqKEAl7Z_rzVsZY9mOwC7dbqiDyjPC34MQiulI2MglUvbFFa', 'yI0r5AgFizq_g0WOpIia2TELCvJN6M_9iSpF8qbnyu8AIkV9', 'Qn7Rk5JQ-6YBnT8QDR79xX9nSTdTgORV_6b4lGr_0gm7nM96', 'p3HYt5Z6e64VUr4-Fpk9G_sX3E-xu7JqD8aQffscjMZee9vY', 'OkfAx8ZVRGdWKbhcHNB7vnA9tkkiY8hKv5QJ6iXUKFtLFgtj', 'vFbxEE7lptasAbGONeB7saR-Zhgdig7sJ8lagXtKRb1WSkvC']\n"
     ]
    }
   ],
   "source": [
    "request_url = f\"https://na1.api.riotgames.com/lol/league/v4/entries/RANKED_SOLO_5x5/IRON/IV?page=1&api_key={credentials[\"key\"]}\"\n",
    "resp = requests.get(request_url)\n",
    "iron4_summoner_ids = []\n",
    "if (resp.status_code == 200):\n",
    "    print(resp.json()[0])\n",
    "    for summoner in resp.json():\n",
    "        iron4_summoner_ids.append(summoner[\"summonerId\"])\n",
    "else:\n",
    "    warnings.warn(f\"Error: Response Code {resp.status_code}\")\n",
    "\n",
    "print(iron4_summoner_ids)"
   ]
  },
  {
   "cell_type": "code",
   "execution_count": null,
   "id": "93fb02c4-bb27-470f-955c-3c8be2b5d0fa",
   "metadata": {},
   "outputs": [],
   "source": [
    "# API LIMITS\n",
    "# 20 requests every second\n",
    "# 100 requests every 120 seconds\n",
    "short_request_count = 0\n",
    "long_request_count = 0\n",
    "short_request_max = 20\n",
    "long_request_max = 100\n",
    "short_request_cooldown = 1\n",
    "long_request_cooldown = 120\n",
    "short_request_start_time = time.clock()\n",
    "long_request_start_time = time.clock()\n",
    "for summoner_id in iron4_summoner_ids:\n",
    "    request_url = f\"https://na1.api.riotgames.com/lol/summoner/v4/summoners/{summoner_id}?api_key={credentials[\"key\"]}\"\n",
    "    short_request_count++\n",
    "    long_request_count++\n",
    "    if time.clock() - long_request_start_time < long_request_cooldown and long_request_count > long_request_max:\n",
    "        time.sleep(long_request_cooldown - (time.clock() - long_request_start_time))\n",
    "        long_request_start_time = time.clock()\n",
    "        short_request_start_time = time.clock()\n",
    "    elif time.clock() - long_request_start_time > long_request_cooldown:\n",
    "        \n",
    "    if time.clock() - short_request_start_time < short_request_cooldown and short_request_count > short_request_max:\n",
    "        \n",
    "\n"
   ]
  }
 ],
 "metadata": {
  "kernelspec": {
   "display_name": "Python 3 (ipykernel)",
   "language": "python",
   "name": "python3"
  },
  "language_info": {
   "codemirror_mode": {
    "name": "ipython",
    "version": 3
   },
   "file_extension": ".py",
   "mimetype": "text/x-python",
   "name": "python",
   "nbconvert_exporter": "python",
   "pygments_lexer": "ipython3",
   "version": "3.12.1"
  }
 },
 "nbformat": 4,
 "nbformat_minor": 5
}
